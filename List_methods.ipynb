{
 "cells": [
  {
   "cell_type": "code",
   "execution_count": 1,
   "id": "9ab18837",
   "metadata": {},
   "outputs": [
    {
     "name": "stdout",
     "output_type": "stream",
     "text": [
      "['BMW', 'Volkswagen', 'Audi']\n",
      "['BMW', 'Volkswagen', 'Audi', 'Benz']\n"
     ]
    }
   ],
   "source": [
    "# append\n",
    "\n",
    "cars = ['BMW', 'Volkswagen', 'Audi']\n",
    "print(cars)\n",
    "\n",
    "cars.append('Benz')  # Add an item\n",
    "print(cars)"
   ]
  },
  {
   "cell_type": "code",
   "execution_count": 2,
   "id": "668f0008",
   "metadata": {},
   "outputs": [
    {
     "name": "stdout",
     "output_type": "stream",
     "text": [
      "['BMW', 'Volkswagen', 'Audi', 'Benz', ['Maruthi', 'Tata']]\n"
     ]
    }
   ],
   "source": [
    "new_cars = ['Maruthi', 'Tata']\n",
    "cars.append(new_cars)\n",
    "print(cars)"
   ]
  },
  {
   "cell_type": "code",
   "execution_count": 3,
   "id": "ef1b4e4d",
   "metadata": {},
   "outputs": [
    {
     "name": "stdout",
     "output_type": "stream",
     "text": [
      "[]\n"
     ]
    }
   ],
   "source": [
    "# clear\n",
    "\n",
    "cars.clear()  # Clears list\n",
    "print(cars)"
   ]
  },
  {
   "cell_type": "code",
   "execution_count": 6,
   "id": "73a76e16",
   "metadata": {},
   "outputs": [
    {
     "name": "stdout",
     "output_type": "stream",
     "text": [
      "['BMW', 'Volkswagen', 'Audi']\n"
     ]
    }
   ],
   "source": [
    "# copy\n",
    "\n",
    "cars = ['BMW', 'Volkswagen', 'Audi']\n",
    "\n",
    "c = cars.copy()  # Copy cars list to c\n",
    "print(c)"
   ]
  },
  {
   "cell_type": "code",
   "execution_count": 9,
   "id": "b40e8ecc",
   "metadata": {},
   "outputs": [
    {
     "name": "stdout",
     "output_type": "stream",
     "text": [
      "1\n",
      "3\n"
     ]
    }
   ],
   "source": [
    "# count\n",
    "\n",
    "n = cars.count('Audi')  # Returns no of occurrence of a specific element\n",
    "print(n)\n",
    "\n",
    "numbers = [1,2,3,1,3,4,1,3,4]\n",
    "count = numbers.count(1)\n",
    "print(count)"
   ]
  },
  {
   "cell_type": "code",
   "execution_count": 10,
   "id": "cddcb30f",
   "metadata": {},
   "outputs": [
    {
     "data": {
      "text/plain": [
       "0"
      ]
     },
     "execution_count": 10,
     "metadata": {},
     "output_type": "execute_result"
    }
   ],
   "source": [
    "numbers.count(5)"
   ]
  },
  {
   "cell_type": "code",
   "execution_count": 11,
   "id": "b5c57e1b",
   "metadata": {},
   "outputs": [
    {
     "name": "stdout",
     "output_type": "stream",
     "text": [
      "['BMW', 'Volkswagen', 'Audi', 'Maruthi', 'Tata']\n"
     ]
    }
   ],
   "source": [
    "# extend\n",
    "\n",
    "cars = ['BMW', 'Volkswagen', 'Audi']\n",
    "new_cars = ['Maruthi', 'Tata']\n",
    "\n",
    "cars.extend(new_cars)  # Extends the list with new list\n",
    "print(cars)"
   ]
  },
  {
   "cell_type": "code",
   "execution_count": 12,
   "id": "b3f1f774",
   "metadata": {},
   "outputs": [
    {
     "name": "stdout",
     "output_type": "stream",
     "text": [
      "['BMW', 'Volkswagen', 'Audi', 'Maruthi', 'Tata', 1, 2, 3, 4]\n"
     ]
    }
   ],
   "source": [
    "numbers = (1,2,3,4)\n",
    "cars.extend(numbers)  # Can add any iterables\n",
    "print(cars)"
   ]
  },
  {
   "cell_type": "code",
   "execution_count": 13,
   "id": "b46fc496",
   "metadata": {},
   "outputs": [
    {
     "name": "stdout",
     "output_type": "stream",
     "text": [
      "2\n"
     ]
    }
   ],
   "source": [
    "# index\n",
    "\n",
    "cars = ['BMW', 'Volkswagen', 'Audi']\n",
    "\n",
    "i = cars.index('Audi')  # Returns the index of specific element\n",
    "print(i)"
   ]
  },
  {
   "cell_type": "code",
   "execution_count": 14,
   "id": "cd2f489a",
   "metadata": {},
   "outputs": [
    {
     "name": "stdout",
     "output_type": "stream",
     "text": [
      "0\n"
     ]
    }
   ],
   "source": [
    "cars = ['BMW', 'Volkswagen', 'Audi', 'BMW']\n",
    "\n",
    "i = cars.index('BMW')  # Retruns index of first occurrence\n",
    "print(i)"
   ]
  },
  {
   "cell_type": "code",
   "execution_count": 23,
   "id": "b7a25696",
   "metadata": {},
   "outputs": [
    {
     "ename": "ValueError",
     "evalue": "'Tata' is not in list",
     "output_type": "error",
     "traceback": [
      "\u001b[1;31m---------------------------------------------------------------------------\u001b[0m",
      "\u001b[1;31mValueError\u001b[0m                                Traceback (most recent call last)",
      "Cell \u001b[1;32mIn[23], line 1\u001b[0m\n\u001b[1;32m----> 1\u001b[0m \u001b[43mcars\u001b[49m\u001b[38;5;241;43m.\u001b[39;49m\u001b[43mindex\u001b[49m\u001b[43m(\u001b[49m\u001b[38;5;124;43m'\u001b[39;49m\u001b[38;5;124;43mTata\u001b[39;49m\u001b[38;5;124;43m'\u001b[39;49m\u001b[43m)\u001b[49m\n",
      "\u001b[1;31mValueError\u001b[0m: 'Tata' is not in list"
     ]
    }
   ],
   "source": [
    "cars.index('Tata')"
   ]
  },
  {
   "cell_type": "code",
   "execution_count": 19,
   "id": "61f18b3d",
   "metadata": {},
   "outputs": [
    {
     "name": "stdout",
     "output_type": "stream",
     "text": [
      "['BMW', 'Skoda', 'Volkswagen', 'Audi']\n"
     ]
    }
   ],
   "source": [
    "# insert\n",
    "\n",
    "cars = ['BMW', 'Volkswagen', 'Audi']\n",
    "\n",
    "cars.insert(1,'Skoda')  # Insert an element at a specified position\n",
    "print(cars)"
   ]
  },
  {
   "cell_type": "code",
   "execution_count": 20,
   "id": "ee7fd108",
   "metadata": {},
   "outputs": [
    {
     "name": "stdout",
     "output_type": "stream",
     "text": [
      "['BMW', ['Maruthi', 'Tata'], 'Skoda', 'Volkswagen', 'Audi']\n"
     ]
    }
   ],
   "source": [
    "cars.insert(1,new_cars)\n",
    "print(cars)"
   ]
  },
  {
   "cell_type": "code",
   "execution_count": 21,
   "id": "cff40688",
   "metadata": {},
   "outputs": [
    {
     "name": "stdout",
     "output_type": "stream",
     "text": [
      "Volkswagen\n",
      "['BMW', 'Audi']\n"
     ]
    }
   ],
   "source": [
    "# pop\n",
    "\n",
    "cars = ['BMW', 'Volkswagen', 'Audi']\n",
    "\n",
    "x = cars.pop(1)  # Removes and returns an element at a specified position\n",
    "print(x)\n",
    "print(cars)"
   ]
  },
  {
   "cell_type": "code",
   "execution_count": 22,
   "id": "050d9056",
   "metadata": {},
   "outputs": [
    {
     "name": "stdout",
     "output_type": "stream",
     "text": [
      "Audi\n",
      "['BMW']\n"
     ]
    }
   ],
   "source": [
    "x = cars.pop()  # Removes the last element by default\n",
    "print(x)\n",
    "print(cars)"
   ]
  },
  {
   "cell_type": "code",
   "execution_count": 24,
   "id": "c45bceb5",
   "metadata": {},
   "outputs": [
    {
     "name": "stdout",
     "output_type": "stream",
     "text": [
      "['Volkswagen', 'Audi']\n"
     ]
    }
   ],
   "source": [
    "# remove\n",
    "\n",
    "cars = ['BMW', 'Volkswagen', 'Audi']\n",
    "\n",
    "cars.remove('BMW')  # Removes the element \n",
    "print(cars)"
   ]
  },
  {
   "cell_type": "code",
   "execution_count": 25,
   "id": "3bdc9c90",
   "metadata": {},
   "outputs": [
    {
     "name": "stdout",
     "output_type": "stream",
     "text": [
      "['Volkswagen', 'Audi', 'BMW']\n"
     ]
    }
   ],
   "source": [
    "cars = ['BMW', 'Volkswagen', 'Audi', 'BMW']\n",
    "\n",
    "cars.remove('BMW')  # Removes the first element\n",
    "print(cars)"
   ]
  },
  {
   "cell_type": "code",
   "execution_count": 26,
   "id": "8bfea6fd",
   "metadata": {},
   "outputs": [
    {
     "ename": "ValueError",
     "evalue": "list.remove(x): x not in list",
     "output_type": "error",
     "traceback": [
      "\u001b[1;31m---------------------------------------------------------------------------\u001b[0m",
      "\u001b[1;31mValueError\u001b[0m                                Traceback (most recent call last)",
      "Cell \u001b[1;32mIn[26], line 1\u001b[0m\n\u001b[1;32m----> 1\u001b[0m \u001b[43mcars\u001b[49m\u001b[38;5;241;43m.\u001b[39;49m\u001b[43mremove\u001b[49m\u001b[43m(\u001b[49m\u001b[38;5;124;43m'\u001b[39;49m\u001b[38;5;124;43mTata\u001b[39;49m\u001b[38;5;124;43m'\u001b[39;49m\u001b[43m)\u001b[49m\n",
      "\u001b[1;31mValueError\u001b[0m: list.remove(x): x not in list"
     ]
    }
   ],
   "source": [
    "cars.remove('Tata')"
   ]
  },
  {
   "cell_type": "code",
   "execution_count": 28,
   "id": "0dcd2421",
   "metadata": {},
   "outputs": [
    {
     "name": "stdout",
     "output_type": "stream",
     "text": [
      "['Audi', 'Volkswagen', 'BMW']\n"
     ]
    }
   ],
   "source": [
    "# reverse\n",
    "\n",
    "cars = ['BMW', 'Volkswagen', 'Audi']\n",
    "\n",
    "cars.reverse()  # Reverse the order\n",
    "print(cars)"
   ]
  },
  {
   "cell_type": "code",
   "execution_count": 35,
   "id": "ecae5de1",
   "metadata": {},
   "outputs": [
    {
     "name": "stdout",
     "output_type": "stream",
     "text": [
      "['Audi', 'BMW', 'Volkswagen']\n"
     ]
    }
   ],
   "source": [
    "# sort\n",
    "\n",
    "cars = ['BMW', 'Volkswagen', 'Audi']\n",
    "\n",
    "cars.sort()  # Sort the list\n",
    "print(cars)"
   ]
  },
  {
   "cell_type": "code",
   "execution_count": null,
   "id": "e7379bf6",
   "metadata": {},
   "outputs": [],
   "source": []
  }
 ],
 "metadata": {
  "kernelspec": {
   "display_name": "Python 3 (ipykernel)",
   "language": "python",
   "name": "python3"
  },
  "language_info": {
   "codemirror_mode": {
    "name": "ipython",
    "version": 3
   },
   "file_extension": ".py",
   "mimetype": "text/x-python",
   "name": "python",
   "nbconvert_exporter": "python",
   "pygments_lexer": "ipython3",
   "version": "3.10.9"
  }
 },
 "nbformat": 4,
 "nbformat_minor": 5
}
