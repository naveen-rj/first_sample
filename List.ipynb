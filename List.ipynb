{
 "cells": [
  {
   "cell_type": "code",
   "execution_count": 4,
   "id": "80a3e0c4",
   "metadata": {},
   "outputs": [
    {
     "name": "stdout",
     "output_type": "stream",
     "text": [
      "['Samsung', 'Motorola', 'Nokia']\n",
      "['Samsung', 'Vivo', 'Nokia']\n",
      "['Samsung', 'Vivo', 'Nokia', 'Oppo']\n",
      "['Apple', 'Samsung', 'Vivo', 'Nokia', 'Oppo']\n"
     ]
    }
   ],
   "source": [
    "# List is mutable\n",
    "\n",
    "List = ['Samsung', 'Motorola', 'Nokia']\n",
    "print(List)\n",
    "\n",
    "List[1] = 'Vivo'  # Replace an item\n",
    "print(List)\n",
    "\n",
    "List.append('Oppo')  # Add an item\n",
    "print(List)\n",
    "\n",
    "List.insert(0, 'Apple')  # Insert an item to a specific position\n",
    "print(List)"
   ]
  },
  {
   "cell_type": "code",
   "execution_count": null,
   "id": "6b5df265",
   "metadata": {},
   "outputs": [],
   "source": []
  }
 ],
 "metadata": {
  "kernelspec": {
   "display_name": "Python 3 (ipykernel)",
   "language": "python",
   "name": "python3"
  },
  "language_info": {
   "codemirror_mode": {
    "name": "ipython",
    "version": 3
   },
   "file_extension": ".py",
   "mimetype": "text/x-python",
   "name": "python",
   "nbconvert_exporter": "python",
   "pygments_lexer": "ipython3",
   "version": "3.10.9"
  }
 },
 "nbformat": 4,
 "nbformat_minor": 5
}
