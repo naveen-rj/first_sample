{
 "cells": [
  {
   "cell_type": "code",
   "execution_count": 14,
   "id": "1e80d8a2",
   "metadata": {},
   "outputs": [
    {
     "name": "stdout",
     "output_type": "stream",
     "text": [
      "Enter size of diamond 5\n",
      "    *\n",
      "   ***\n",
      "  *****\n",
      " *******\n",
      "*********\n",
      " *******\n",
      "  *****\n",
      "   ***\n",
      "    *\n"
     ]
    }
   ],
   "source": [
    "s = int(input('Enter size of diamond '))\n",
    "x=0\n",
    "for i in range(1,s+1):\n",
    "    print(' '*(s-i),end='')\n",
    "    print('*'*(x+i),end='')\n",
    "    x+=1\n",
    "    print('\\r')\n",
    "x-=2\n",
    "for i in range(s-1,0,-1):\n",
    "    print(' '*(s-i),end='')\n",
    "    print('*'*(x+i),end='')\n",
    "    x-=1\n",
    "    print('\\r')"
   ]
  },
  {
   "cell_type": "code",
   "execution_count": 11,
   "id": "10bbbf9f",
   "metadata": {},
   "outputs": [
    {
     "name": "stdout",
     "output_type": "stream",
     "text": [
      "Enter size of diamond 10\n",
      "          *\n",
      "         ***\n",
      "        *****\n",
      "       *******\n",
      "      *********\n",
      "     ***********\n",
      "    *************\n",
      "   ***************\n",
      "  *****************\n",
      " *******************\n",
      "  *****************\n",
      "   ***************\n",
      "    *************\n",
      "     ***********\n",
      "      *********\n",
      "       *******\n",
      "        *****\n",
      "         ***\n",
      "          *\n"
     ]
    }
   ],
   "source": [
    "s = int(input('Enter size of diamond '))\n",
    "\n",
    "for i in range(s):\n",
    "    print(' ' * (s-i-1), '*' * (2*i+1))\n",
    "    \n",
    "for i in range(s-2, -1, -1):\n",
    "    print(' ' * (s-i-1), '*' * (2*i+1))"
   ]
  },
  {
   "cell_type": "code",
   "execution_count": null,
   "id": "b878cda1",
   "metadata": {},
   "outputs": [],
   "source": []
  }
 ],
 "metadata": {
  "kernelspec": {
   "display_name": "Python 3 (ipykernel)",
   "language": "python",
   "name": "python3"
  },
  "language_info": {
   "codemirror_mode": {
    "name": "ipython",
    "version": 3
   },
   "file_extension": ".py",
   "mimetype": "text/x-python",
   "name": "python",
   "nbconvert_exporter": "python",
   "pygments_lexer": "ipython3",
   "version": "3.10.9"
  }
 },
 "nbformat": 4,
 "nbformat_minor": 5
}
